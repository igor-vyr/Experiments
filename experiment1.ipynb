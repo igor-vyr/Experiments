{
 "cells": [
  {
   "cell_type": "code",
   "execution_count": 83,
   "metadata": {},
   "outputs": [],
   "source": [
    "import numpy as np\n",
    "import tensorflow as tf"
   ]
  },
  {
   "cell_type": "code",
   "execution_count": 84,
   "metadata": {},
   "outputs": [
    {
     "data": {
      "text/plain": [
       "(<tf.Tensor 'add_1:0' shape=() dtype=int32>,\n",
       " <tf.Variable 'xx:0' shape=() dtype=int32_ref>,\n",
       " <tf.Variable 'yy:0' shape=() dtype=int32_ref>)"
      ]
     },
     "execution_count": 84,
     "metadata": {},
     "output_type": "execute_result"
    }
   ],
   "source": [
    "x=tf.Variable(3, name='xx')\n",
    "y=tf.Variable(4, name='yy')\n",
    "f=x*x*y+y+2\n",
    "f,x,y"
   ]
  },
  {
   "cell_type": "code",
   "execution_count": 85,
   "metadata": {},
   "outputs": [
    {
     "data": {
      "text/plain": [
       "False"
      ]
     },
     "execution_count": 85,
     "metadata": {},
     "output_type": "execute_result"
    }
   ],
   "source": [
    "sess=tf.Session()\n",
    "sess is tf.get_default_session()"
   ]
  },
  {
   "cell_type": "code",
   "execution_count": 86,
   "metadata": {},
   "outputs": [
    {
     "name": "stdout",
     "output_type": "stream",
     "text": [
      "Inside with block sess is now default session: True\n"
     ]
    },
    {
     "data": {
      "text/plain": [
       "(42, numpy.int32)"
      ]
     },
     "execution_count": 86,
     "metadata": {},
     "output_type": "execute_result"
    }
   ],
   "source": [
    "with tf.Session() as sess:\n",
    "    print('Inside with block sess is now default session:',sess is tf.get_default_session())\n",
    "    x.initializer.run()\n",
    "    y.initializer.run()\n",
    "    result=f.eval()\n",
    "result, type(result)"
   ]
  },
  {
   "cell_type": "code",
   "execution_count": 112,
   "metadata": {},
   "outputs": [],
   "source": [
    "init=tf.global_variables_initializer()\n",
    "with tf.Session() as sess:\n",
    "    init.run()\n",
    "    result=f.eval()"
   ]
  },
  {
   "cell_type": "code",
   "execution_count": 149,
   "metadata": {},
   "outputs": [
    {
     "data": {
      "text/plain": [
       "[<tf.Operation 'init' type=NoOp>,\n",
       " <tf.Operation 'xx/initial_value' type=Const>,\n",
       " <tf.Operation 'xx' type=VariableV2>,\n",
       " <tf.Operation 'xx/Assign' type=Assign>,\n",
       " <tf.Operation 'xx/read' type=Identity>,\n",
       " <tf.Operation 'yy/initial_value' type=Const>,\n",
       " <tf.Operation 'yy' type=VariableV2>,\n",
       " <tf.Operation 'yy/Assign' type=Assign>,\n",
       " <tf.Operation 'yy/read' type=Identity>,\n",
       " <tf.Operation 'mul' type=Mul>,\n",
       " <tf.Operation 'mul_1' type=Mul>,\n",
       " <tf.Operation 'add' type=Add>,\n",
       " <tf.Operation 'add_1/y' type=Const>,\n",
       " <tf.Operation 'add_1' type=Add>,\n",
       " <tf.Operation 'init_1' type=NoOp>,\n",
       " <tf.Operation 'Const' type=Const>,\n",
       " <tf.Operation 'Const_1' type=Const>,\n",
       " <tf.Operation 'Const_2' type=Const>,\n",
       " <tf.Operation 'Const_3' type=Const>,\n",
       " <tf.Operation 'xx_1/initial_value' type=Const>,\n",
       " <tf.Operation 'xx_1' type=VariableV2>,\n",
       " <tf.Operation 'xx_1/Assign' type=Assign>,\n",
       " <tf.Operation 'xx_1/read' type=Identity>,\n",
       " <tf.Operation 'yy_1/initial_value' type=Const>,\n",
       " <tf.Operation 'yy_1' type=VariableV2>,\n",
       " <tf.Operation 'yy_1/Assign' type=Assign>,\n",
       " <tf.Operation 'yy_1/read' type=Identity>,\n",
       " <tf.Operation 'mul_2' type=Mul>,\n",
       " <tf.Operation 'mul_3' type=Mul>,\n",
       " <tf.Operation 'add_2' type=Add>,\n",
       " <tf.Operation 'add_3/y' type=Const>,\n",
       " <tf.Operation 'add_3' type=Add>,\n",
       " <tf.Operation 'Const_4' type=Const>,\n",
       " <tf.Operation 'xx_2/initial_value' type=Const>,\n",
       " <tf.Operation 'xx_2' type=VariableV2>,\n",
       " <tf.Operation 'xx_2/Assign' type=Assign>,\n",
       " <tf.Operation 'xx_2/read' type=Identity>,\n",
       " <tf.Operation 'yy_2/initial_value' type=Const>,\n",
       " <tf.Operation 'yy_2' type=VariableV2>,\n",
       " <tf.Operation 'yy_2/Assign' type=Assign>,\n",
       " <tf.Operation 'yy_2/read' type=Identity>,\n",
       " <tf.Operation 'mul_4' type=Mul>,\n",
       " <tf.Operation 'mul_5' type=Mul>,\n",
       " <tf.Operation 'add_4' type=Add>,\n",
       " <tf.Operation 'add_5/y' type=Const>,\n",
       " <tf.Operation 'add_5' type=Add>,\n",
       " <tf.Operation 'Const_5' type=Const>,\n",
       " <tf.Operation 'xx_3/initial_value' type=Const>,\n",
       " <tf.Operation 'xx_3' type=VariableV2>,\n",
       " <tf.Operation 'xx_3/Assign' type=Assign>,\n",
       " <tf.Operation 'xx_3/read' type=Identity>,\n",
       " <tf.Operation 'yy_3/initial_value' type=Const>,\n",
       " <tf.Operation 'yy_3' type=VariableV2>,\n",
       " <tf.Operation 'yy_3/Assign' type=Assign>,\n",
       " <tf.Operation 'yy_3/read' type=Identity>,\n",
       " <tf.Operation 'mul_6' type=Mul>,\n",
       " <tf.Operation 'mul_7' type=Mul>,\n",
       " <tf.Operation 'add_6' type=Add>,\n",
       " <tf.Operation 'add_7/y' type=Const>,\n",
       " <tf.Operation 'add_7' type=Add>,\n",
       " <tf.Operation 'Const_6' type=Const>,\n",
       " <tf.Operation 'xx_4/initial_value' type=Const>,\n",
       " <tf.Operation 'xx_4' type=VariableV2>,\n",
       " <tf.Operation 'xx_4/Assign' type=Assign>,\n",
       " <tf.Operation 'xx_4/read' type=Identity>,\n",
       " <tf.Operation 'yy_4/initial_value' type=Const>,\n",
       " <tf.Operation 'yy_4' type=VariableV2>,\n",
       " <tf.Operation 'yy_4/Assign' type=Assign>,\n",
       " <tf.Operation 'yy_4/read' type=Identity>,\n",
       " <tf.Operation 'mul_8' type=Mul>,\n",
       " <tf.Operation 'mul_9' type=Mul>,\n",
       " <tf.Operation 'add_8' type=Add>,\n",
       " <tf.Operation 'add_9/y' type=Const>,\n",
       " <tf.Operation 'add_9' type=Add>,\n",
       " <tf.Operation 'Const_7' type=Const>,\n",
       " <tf.Operation 'xx_5/initial_value' type=Const>,\n",
       " <tf.Operation 'xx_5' type=VariableV2>,\n",
       " <tf.Operation 'xx_5/Assign' type=Assign>,\n",
       " <tf.Operation 'xx_5/read' type=Identity>,\n",
       " <tf.Operation 'yy_5/initial_value' type=Const>,\n",
       " <tf.Operation 'yy_5' type=VariableV2>,\n",
       " <tf.Operation 'yy_5/Assign' type=Assign>,\n",
       " <tf.Operation 'yy_5/read' type=Identity>,\n",
       " <tf.Operation 'mul_10' type=Mul>,\n",
       " <tf.Operation 'mul_11' type=Mul>,\n",
       " <tf.Operation 'add_10' type=Add>,\n",
       " <tf.Operation 'add_11/y' type=Const>,\n",
       " <tf.Operation 'add_11' type=Add>,\n",
       " <tf.Operation 'Const_8' type=Const>,\n",
       " <tf.Operation 'xx_6/initial_value' type=Const>,\n",
       " <tf.Operation 'xx_6' type=VariableV2>,\n",
       " <tf.Operation 'xx_6/Assign' type=Assign>,\n",
       " <tf.Operation 'xx_6/read' type=Identity>,\n",
       " <tf.Operation 'yy_6/initial_value' type=Const>,\n",
       " <tf.Operation 'yy_6' type=VariableV2>,\n",
       " <tf.Operation 'yy_6/Assign' type=Assign>,\n",
       " <tf.Operation 'yy_6/read' type=Identity>,\n",
       " <tf.Operation 'mul_12' type=Mul>,\n",
       " <tf.Operation 'mul_13' type=Mul>,\n",
       " <tf.Operation 'add_12' type=Add>,\n",
       " <tf.Operation 'add_13/y' type=Const>,\n",
       " <tf.Operation 'add_13' type=Add>,\n",
       " <tf.Operation 'Const_9' type=Const>,\n",
       " <tf.Operation 'xx_7/initial_value' type=Const>,\n",
       " <tf.Operation 'xx_7' type=VariableV2>,\n",
       " <tf.Operation 'xx_7/Assign' type=Assign>,\n",
       " <tf.Operation 'xx_7/read' type=Identity>,\n",
       " <tf.Operation 'yy_7/initial_value' type=Const>,\n",
       " <tf.Operation 'yy_7' type=VariableV2>,\n",
       " <tf.Operation 'yy_7/Assign' type=Assign>,\n",
       " <tf.Operation 'yy_7/read' type=Identity>,\n",
       " <tf.Operation 'mul_14' type=Mul>,\n",
       " <tf.Operation 'mul_15' type=Mul>,\n",
       " <tf.Operation 'add_14' type=Add>,\n",
       " <tf.Operation 'add_15/y' type=Const>,\n",
       " <tf.Operation 'add_15' type=Add>,\n",
       " <tf.Operation 'mul_16/x' type=Const>,\n",
       " <tf.Operation 'mul_16' type=Mul>,\n",
       " <tf.Operation 'Const_10' type=Const>,\n",
       " <tf.Operation 'xx_8/initial_value' type=Const>,\n",
       " <tf.Operation 'xx_8' type=VariableV2>,\n",
       " <tf.Operation 'xx_8/Assign' type=Assign>,\n",
       " <tf.Operation 'xx_8/read' type=Identity>,\n",
       " <tf.Operation 'yy_8/initial_value' type=Const>,\n",
       " <tf.Operation 'yy_8' type=VariableV2>,\n",
       " <tf.Operation 'yy_8/Assign' type=Assign>,\n",
       " <tf.Operation 'yy_8/read' type=Identity>,\n",
       " <tf.Operation 'mul_17' type=Mul>,\n",
       " <tf.Operation 'mul_18' type=Mul>,\n",
       " <tf.Operation 'add_16' type=Add>,\n",
       " <tf.Operation 'add_17/y' type=Const>,\n",
       " <tf.Operation 'add_17' type=Add>,\n",
       " <tf.Operation 'mul_19/x' type=Const>,\n",
       " <tf.Operation 'mul_19' type=Mul>,\n",
       " <tf.Operation 'Const_11' type=Const>,\n",
       " <tf.Operation 'xx_9/initial_value' type=Const>,\n",
       " <tf.Operation 'xx_9' type=VariableV2>,\n",
       " <tf.Operation 'xx_9/Assign' type=Assign>,\n",
       " <tf.Operation 'xx_9/read' type=Identity>,\n",
       " <tf.Operation 'yy_9/initial_value' type=Const>,\n",
       " <tf.Operation 'yy_9' type=VariableV2>,\n",
       " <tf.Operation 'yy_9/Assign' type=Assign>,\n",
       " <tf.Operation 'yy_9/read' type=Identity>,\n",
       " <tf.Operation 'mul_20' type=Mul>,\n",
       " <tf.Operation 'mul_21' type=Mul>,\n",
       " <tf.Operation 'add_18' type=Add>,\n",
       " <tf.Operation 'add_19/y' type=Const>,\n",
       " <tf.Operation 'add_19' type=Add>,\n",
       " <tf.Operation 'mul_22/x' type=Const>,\n",
       " <tf.Operation 'mul_22' type=Mul>,\n",
       " <tf.Operation 'init_2' type=NoOp>,\n",
       " <tf.Operation 'Const_12' type=Const>,\n",
       " <tf.Operation 'xx_10/initial_value' type=Const>,\n",
       " <tf.Operation 'xx_10' type=VariableV2>,\n",
       " <tf.Operation 'xx_10/Assign' type=Assign>,\n",
       " <tf.Operation 'xx_10/read' type=Identity>,\n",
       " <tf.Operation 'yy_10/initial_value' type=Const>,\n",
       " <tf.Operation 'yy_10' type=VariableV2>,\n",
       " <tf.Operation 'yy_10/Assign' type=Assign>,\n",
       " <tf.Operation 'yy_10/read' type=Identity>,\n",
       " <tf.Operation 'mul_23' type=Mul>,\n",
       " <tf.Operation 'mul_24' type=Mul>,\n",
       " <tf.Operation 'add_20' type=Add>,\n",
       " <tf.Operation 'add_21' type=Add>,\n",
       " <tf.Operation 'mul_25/x' type=Const>,\n",
       " <tf.Operation 'mul_25' type=Mul>,\n",
       " <tf.Operation 'Const_13' type=Const>,\n",
       " <tf.Operation 'xx_11/initial_value' type=Const>,\n",
       " <tf.Operation 'xx_11' type=VariableV2>,\n",
       " <tf.Operation 'xx_11/Assign' type=Assign>,\n",
       " <tf.Operation 'xx_11/read' type=Identity>,\n",
       " <tf.Operation 'yy_11/initial_value' type=Const>,\n",
       " <tf.Operation 'yy_11' type=VariableV2>,\n",
       " <tf.Operation 'yy_11/Assign' type=Assign>,\n",
       " <tf.Operation 'yy_11/read' type=Identity>,\n",
       " <tf.Operation 'mul_26' type=Mul>,\n",
       " <tf.Operation 'mul_27' type=Mul>,\n",
       " <tf.Operation 'add_22' type=Add>,\n",
       " <tf.Operation 'add_23' type=Add>,\n",
       " <tf.Operation 'mul_28/x' type=Const>,\n",
       " <tf.Operation 'mul_28' type=Mul>,\n",
       " <tf.Operation 'Const_14' type=Const>,\n",
       " <tf.Operation 'xx_12/initial_value' type=Const>,\n",
       " <tf.Operation 'xx_12' type=VariableV2>,\n",
       " <tf.Operation 'xx_12/Assign' type=Assign>,\n",
       " <tf.Operation 'xx_12/read' type=Identity>,\n",
       " <tf.Operation 'yy_12/initial_value' type=Const>,\n",
       " <tf.Operation 'yy_12' type=VariableV2>,\n",
       " <tf.Operation 'yy_12/Assign' type=Assign>,\n",
       " <tf.Operation 'yy_12/read' type=Identity>,\n",
       " <tf.Operation 'mul_29' type=Mul>,\n",
       " <tf.Operation 'mul_30' type=Mul>,\n",
       " <tf.Operation 'add_24' type=Add>,\n",
       " <tf.Operation 'add_25' type=Add>,\n",
       " <tf.Operation 'mul_31/x' type=Const>,\n",
       " <tf.Operation 'mul_31' type=Mul>,\n",
       " <tf.Operation 'init_3' type=NoOp>,\n",
       " <tf.Operation 'init_4' type=NoOp>,\n",
       " <tf.Operation 'init_5' type=NoOp>,\n",
       " <tf.Operation 'Const_15' type=Const>,\n",
       " <tf.Operation 'xx_13/initial_value' type=Const>,\n",
       " <tf.Operation 'xx_13' type=VariableV2>,\n",
       " <tf.Operation 'xx_13/Assign' type=Assign>,\n",
       " <tf.Operation 'xx_13/read' type=Identity>,\n",
       " <tf.Operation 'yy_13/initial_value' type=Const>,\n",
       " <tf.Operation 'yy_13' type=VariableV2>,\n",
       " <tf.Operation 'yy_13/Assign' type=Assign>,\n",
       " <tf.Operation 'yy_13/read' type=Identity>,\n",
       " <tf.Operation 'mul_32' type=Mul>,\n",
       " <tf.Operation 'mul_33' type=Mul>,\n",
       " <tf.Operation 'add_26' type=Add>,\n",
       " <tf.Operation 'add_27' type=Add>,\n",
       " <tf.Operation 'mul_34/x' type=Const>,\n",
       " <tf.Operation 'mul_34' type=Mul>,\n",
       " <tf.Operation 'Const_16' type=Const>,\n",
       " <tf.Operation 'xx_14/initial_value' type=Const>,\n",
       " <tf.Operation 'xx_14' type=VariableV2>,\n",
       " <tf.Operation 'xx_14/Assign' type=Assign>,\n",
       " <tf.Operation 'xx_14/read' type=Identity>,\n",
       " <tf.Operation 'yy_14/initial_value' type=Const>,\n",
       " <tf.Operation 'yy_14' type=VariableV2>,\n",
       " <tf.Operation 'yy_14/Assign' type=Assign>,\n",
       " <tf.Operation 'yy_14/read' type=Identity>,\n",
       " <tf.Operation 'mul_35' type=Mul>,\n",
       " <tf.Operation 'mul_36' type=Mul>,\n",
       " <tf.Operation 'add_28' type=Add>,\n",
       " <tf.Operation 'add_29' type=Add>,\n",
       " <tf.Operation 'mul_37/x' type=Const>,\n",
       " <tf.Operation 'mul_37' type=Mul>,\n",
       " <tf.Operation 'init_6' type=NoOp>,\n",
       " <tf.Operation 'init_7' type=NoOp>,\n",
       " <tf.Operation 'Const_17' type=Const>,\n",
       " <tf.Operation 'xx_15/initial_value' type=Const>,\n",
       " <tf.Operation 'xx_15' type=VariableV2>,\n",
       " <tf.Operation 'xx_15/Assign' type=Assign>,\n",
       " <tf.Operation 'xx_15/read' type=Identity>,\n",
       " <tf.Operation 'yy_15/initial_value' type=Const>,\n",
       " <tf.Operation 'yy_15' type=VariableV2>,\n",
       " <tf.Operation 'yy_15/Assign' type=Assign>,\n",
       " <tf.Operation 'yy_15/read' type=Identity>,\n",
       " <tf.Operation 'mul_38' type=Mul>,\n",
       " <tf.Operation 'mul_39' type=Mul>,\n",
       " <tf.Operation 'add_30' type=Add>,\n",
       " <tf.Operation 'add_31' type=Add>,\n",
       " <tf.Operation 'mul_40/x' type=Const>,\n",
       " <tf.Operation 'mul_40' type=Mul>,\n",
       " <tf.Operation 'Const_18' type=Const>,\n",
       " <tf.Operation 'xx_16/initial_value' type=Const>,\n",
       " <tf.Operation 'xx_16' type=VariableV2>,\n",
       " <tf.Operation 'xx_16/Assign' type=Assign>,\n",
       " <tf.Operation 'xx_16/read' type=Identity>,\n",
       " <tf.Operation 'yy_16/initial_value' type=Const>,\n",
       " <tf.Operation 'yy_16' type=VariableV2>,\n",
       " <tf.Operation 'yy_16/Assign' type=Assign>,\n",
       " <tf.Operation 'yy_16/read' type=Identity>,\n",
       " <tf.Operation 'mul_41' type=Mul>,\n",
       " <tf.Operation 'mul_42' type=Mul>,\n",
       " <tf.Operation 'add_32' type=Add>,\n",
       " <tf.Operation 'add_33' type=Add>,\n",
       " <tf.Operation 'mul_43/x' type=Const>,\n",
       " <tf.Operation 'mul_43' type=Mul>,\n",
       " <tf.Operation 'init_8' type=NoOp>,\n",
       " <tf.Operation 'Const_19' type=Const>,\n",
       " <tf.Operation 'xx_17/initial_value' type=Const>,\n",
       " <tf.Operation 'xx_17' type=VariableV2>,\n",
       " <tf.Operation 'xx_17/Assign' type=Assign>,\n",
       " <tf.Operation 'xx_17/read' type=Identity>,\n",
       " <tf.Operation 'yy_17/initial_value' type=Const>,\n",
       " <tf.Operation 'yy_17' type=VariableV2>,\n",
       " <tf.Operation 'yy_17/Assign' type=Assign>,\n",
       " <tf.Operation 'yy_17/read' type=Identity>,\n",
       " <tf.Operation 'mul_44' type=Mul>,\n",
       " <tf.Operation 'mul_45' type=Mul>,\n",
       " <tf.Operation 'add_34' type=Add>,\n",
       " <tf.Operation 'add_35' type=Add>,\n",
       " <tf.Operation 'mul_46/x' type=Const>,\n",
       " <tf.Operation 'mul_46' type=Mul>,\n",
       " <tf.Operation 'init_9' type=NoOp>,\n",
       " <tf.Operation 'Const_20' type=Const>,\n",
       " <tf.Operation 'xx_18/initial_value' type=Const>,\n",
       " <tf.Operation 'xx_18' type=VariableV2>,\n",
       " <tf.Operation 'xx_18/Assign' type=Assign>,\n",
       " <tf.Operation 'xx_18/read' type=Identity>,\n",
       " <tf.Operation 'yy_18/initial_value' type=Const>,\n",
       " <tf.Operation 'yy_18' type=VariableV2>,\n",
       " <tf.Operation 'yy_18/Assign' type=Assign>,\n",
       " <tf.Operation 'yy_18/read' type=Identity>,\n",
       " <tf.Operation 'mul_47' type=Mul>,\n",
       " <tf.Operation 'mul_48' type=Mul>,\n",
       " <tf.Operation 'add_36' type=Add>,\n",
       " <tf.Operation 'add_37' type=Add>,\n",
       " <tf.Operation 'mul_49/x' type=Const>,\n",
       " <tf.Operation 'mul_49' type=Mul>,\n",
       " <tf.Operation 'init_10' type=NoOp>,\n",
       " <tf.Operation 'Const_21' type=Const>,\n",
       " <tf.Operation 'xx_19/initial_value' type=Const>,\n",
       " <tf.Operation 'xx_19' type=VariableV2>,\n",
       " <tf.Operation 'xx_19/Assign' type=Assign>,\n",
       " <tf.Operation 'xx_19/read' type=Identity>,\n",
       " <tf.Operation 'yy_19/initial_value' type=Const>,\n",
       " <tf.Operation 'yy_19' type=VariableV2>,\n",
       " <tf.Operation 'yy_19/Assign' type=Assign>,\n",
       " <tf.Operation 'yy_19/read' type=Identity>,\n",
       " <tf.Operation 'mul_50' type=Mul>,\n",
       " <tf.Operation 'mul_51' type=Mul>,\n",
       " <tf.Operation 'add_38' type=Add>,\n",
       " <tf.Operation 'add_39' type=Add>,\n",
       " <tf.Operation 'mul_52/x' type=Const>,\n",
       " <tf.Operation 'mul_52' type=Mul>,\n",
       " <tf.Operation 'Const_22' type=Const>,\n",
       " <tf.Operation 'xx_20/initial_value' type=Const>,\n",
       " <tf.Operation 'xx_20' type=VariableV2>,\n",
       " <tf.Operation 'xx_20/Assign' type=Assign>,\n",
       " <tf.Operation 'xx_20/read' type=Identity>,\n",
       " <tf.Operation 'yy_20/initial_value' type=Const>,\n",
       " <tf.Operation 'yy_20' type=VariableV2>,\n",
       " <tf.Operation 'yy_20/Assign' type=Assign>,\n",
       " <tf.Operation 'yy_20/read' type=Identity>,\n",
       " <tf.Operation 'mul_53' type=Mul>,\n",
       " <tf.Operation 'mul_54' type=Mul>,\n",
       " <tf.Operation 'add_40' type=Add>,\n",
       " <tf.Operation 'add_41' type=Add>,\n",
       " <tf.Operation 'mul_55/x' type=Const>,\n",
       " <tf.Operation 'mul_55' type=Mul>,\n",
       " <tf.Operation 'init_11' type=NoOp>,\n",
       " <tf.Operation 'init_12' type=NoOp>,\n",
       " <tf.Operation 'init_13' type=NoOp>]"
      ]
     },
     "execution_count": 149,
     "metadata": {},
     "output_type": "execute_result"
    }
   ],
   "source": [
    "gf=tf.get_default_graph()\n",
    "gf.get_operations()\n"
   ]
  },
  {
   "cell_type": "code",
   "execution_count": 150,
   "metadata": {},
   "outputs": [
    {
     "data": {
      "text/plain": [
       "False"
      ]
     },
     "execution_count": 150,
     "metadata": {},
     "output_type": "execute_result"
    }
   ],
   "source": [
    "tf.reset_default_graph()\n",
    "gf is tf.get_default_graph()"
   ]
  },
  {
   "cell_type": "code",
   "execution_count": 156,
   "metadata": {},
   "outputs": [
    {
     "name": "stdout",
     "output_type": "stream",
     "text": [
      "<class 'tensorflow.python.framework.ops.Tensor'>\n",
      "<class 'tensorflow.python.ops.variables.Variable'>\n",
      "<class 'tensorflow.python.ops.variables.Variable'>\n",
      "<class 'tensorflow.python.framework.ops.Tensor'>\n",
      "<class 'tensorflow.python.framework.ops.Tensor'>\n"
     ]
    }
   ],
   "source": [
    "tf.reset_default_graph()\n",
    "w=tf.constant(5)\n",
    "x=tf.Variable(3, name='xx')\n",
    "y=tf.Variable(4, name='yy')\n",
    "f=x*x*y+y+w\n",
    "z=3*w\n",
    "for k in [w,x,y,f,z]:\n",
    "    print(type(k))\n"
   ]
  },
  {
   "cell_type": "code",
   "execution_count": 157,
   "metadata": {},
   "outputs": [
    {
     "name": "stdout",
     "output_type": "stream",
     "text": [
      "45 15\n"
     ]
    }
   ],
   "source": [
    "init=tf.global_variables_initializer()\n",
    "with tf.Session() as sess:\n",
    "    init.run()\n",
    "    #tf.initialize_all_variables().run()\n",
    "    f_val, z_val=sess.run([f,z])\n",
    "    print(f_val,z_val)"
   ]
  },
  {
   "cell_type": "code",
   "execution_count": 159,
   "metadata": {},
   "outputs": [
    {
     "data": {
      "text/plain": [
       "[<tf.Operation 'Const' type=Const>,\n",
       " <tf.Operation 'xx/initial_value' type=Const>,\n",
       " <tf.Operation 'xx' type=VariableV2>,\n",
       " <tf.Operation 'xx/Assign' type=Assign>,\n",
       " <tf.Operation 'xx/read' type=Identity>,\n",
       " <tf.Operation 'yy/initial_value' type=Const>,\n",
       " <tf.Operation 'yy' type=VariableV2>,\n",
       " <tf.Operation 'yy/Assign' type=Assign>,\n",
       " <tf.Operation 'yy/read' type=Identity>,\n",
       " <tf.Operation 'mul' type=Mul>,\n",
       " <tf.Operation 'mul_1' type=Mul>,\n",
       " <tf.Operation 'add' type=Add>,\n",
       " <tf.Operation 'add_1' type=Add>,\n",
       " <tf.Operation 'mul_2/x' type=Const>,\n",
       " <tf.Operation 'mul_2' type=Mul>,\n",
       " <tf.Operation 'init' type=NoOp>]"
      ]
     },
     "execution_count": 159,
     "metadata": {},
     "output_type": "execute_result"
    }
   ],
   "source": [
    "tf.get_default_graph().get_operations()"
   ]
  },
  {
   "cell_type": "code",
   "execution_count": null,
   "metadata": {},
   "outputs": [],
   "source": []
  }
 ],
 "metadata": {
  "kernelspec": {
   "display_name": "Python 3",
   "language": "python",
   "name": "python3"
  },
  "language_info": {
   "codemirror_mode": {
    "name": "ipython",
    "version": 3
   },
   "file_extension": ".py",
   "mimetype": "text/x-python",
   "name": "python",
   "nbconvert_exporter": "python",
   "pygments_lexer": "ipython3",
   "version": "3.6.5"
  }
 },
 "nbformat": 4,
 "nbformat_minor": 2
}
