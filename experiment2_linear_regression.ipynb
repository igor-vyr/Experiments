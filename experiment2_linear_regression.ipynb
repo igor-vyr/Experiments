{
 "cells": [
  {
   "cell_type": "code",
   "execution_count": 10,
   "metadata": {},
   "outputs": [],
   "source": [
    "import numpy as np\n",
    "import tensorflow as tf\n",
    "from sklearn.datasets import fetch_california_housing"
   ]
  },
  {
   "cell_type": "code",
   "execution_count": 11,
   "metadata": {},
   "outputs": [],
   "source": [
    "housing=fetch_california_housing()"
   ]
  },
  {
   "cell_type": "code",
   "execution_count": 12,
   "metadata": {},
   "outputs": [
    {
     "data": {
      "text/plain": [
       "[<tf.Operation 'X' type=Const>,\n",
       " <tf.Operation 'y' type=Const>,\n",
       " <tf.Operation 'transpose/Rank' type=Rank>,\n",
       " <tf.Operation 'transpose/sub/y' type=Const>,\n",
       " <tf.Operation 'transpose/sub' type=Sub>,\n",
       " <tf.Operation 'transpose/Range/start' type=Const>,\n",
       " <tf.Operation 'transpose/Range/delta' type=Const>,\n",
       " <tf.Operation 'transpose/Range' type=Range>,\n",
       " <tf.Operation 'transpose/sub_1' type=Sub>,\n",
       " <tf.Operation 'transpose' type=Transpose>,\n",
       " <tf.Operation 'MatMul' type=MatMul>,\n",
       " <tf.Operation 'MatrixInverse' type=MatrixInverse>,\n",
       " <tf.Operation 'MatMul_1' type=MatMul>,\n",
       " <tf.Operation 'MatMul_2' type=MatMul>]"
      ]
     },
     "execution_count": 12,
     "metadata": {},
     "output_type": "execute_result"
    }
   ],
   "source": [
    "tf.reset_default_graph()\n",
    "m,n=housing.data.shape\n",
    "housing_plus_bias=np.c_[np.ones([m,1]),housing.data]\n",
    "X=tf.constant(housing_plus_bias, name='X', dtype=tf.float64)\n",
    "y=tf.constant(housing.target.reshape(-1,1), name='y', dtype=tf.float64)\n",
    "XT=tf.transpose(X)\n",
    "theta=tf.matmul(tf.matrix_inverse(tf.matmul(XT,X)), tf.matmul(XT,y))\n",
    "#theta=tf.matmul(tf.matmul(tf.matrix_inverse(tf.matmul(XT,X)),XT),y)\n",
    "gf=tf.get_default_graph()\n",
    "gf.get_operations()"
   ]
  },
  {
   "cell_type": "code",
   "execution_count": 13,
   "metadata": {},
   "outputs": [
    {
     "data": {
      "text/plain": [
       "array([[-3.69419202e+01],\n",
       "       [ 4.36693293e-01],\n",
       "       [ 9.43577803e-03],\n",
       "       [-1.07322041e-01],\n",
       "       [ 6.45065694e-01],\n",
       "       [-3.97638942e-06],\n",
       "       [-3.78654265e-03],\n",
       "       [-4.21314378e-01],\n",
       "       [-4.34513755e-01]])"
      ]
     },
     "execution_count": 13,
     "metadata": {},
     "output_type": "execute_result"
    }
   ],
   "source": [
    "with tf.Session() as sess:\n",
    "    theta_val=theta.eval()\n",
    "theta_val"
   ]
  },
  {
   "cell_type": "code",
   "execution_count": null,
   "metadata": {},
   "outputs": [],
   "source": []
  }
 ],
 "metadata": {
  "kernelspec": {
   "display_name": "Python 3",
   "language": "python",
   "name": "python3"
  },
  "language_info": {
   "codemirror_mode": {
    "name": "ipython",
    "version": 3
   },
   "file_extension": ".py",
   "mimetype": "text/x-python",
   "name": "python",
   "nbconvert_exporter": "python",
   "pygments_lexer": "ipython3",
   "version": "3.6.5"
  }
 },
 "nbformat": 4,
 "nbformat_minor": 2
}
