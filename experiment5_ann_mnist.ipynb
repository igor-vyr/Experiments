{
 "cells": [
  {
   "cell_type": "markdown",
   "metadata": {},
   "source": [
    "# Solving MNIST with ANN"
   ]
  },
  {
   "cell_type": "code",
   "execution_count": 16,
   "metadata": {},
   "outputs": [],
   "source": [
    "import numpy as np\n",
    "import pandas as pd\n",
    "import tensorflow as tf\n",
    "from sklearn.datasets import fetch_california_housing\n",
    "from sklearn.preprocessing import StandardScaler"
   ]
  },
  {
   "cell_type": "code",
   "execution_count": 57,
   "metadata": {},
   "outputs": [
    {
     "name": "stderr",
     "output_type": "stream",
     "text": [
      "/home/igor/anaconda3/lib/python3.6/site-packages/sklearn/utils/validation.py:475: DataConversionWarning: Data with input dtype uint8 was converted to float64 by StandardScaler.\n",
      "  warnings.warn(msg, DataConversionWarning)\n"
     ]
    }
   ],
   "source": [
    "from sklearn.datasets import fetch_mldata\n",
    "from sklearn.model_selection import train_test_split\n",
    "mnist=fetch_mldata('MNIST original')\n",
    "stdsc=StandardScaler()\n",
    "#X,y=pd.DataFrame(mnist['data']), pd.DataFrame(mnist['target'])\n",
    "X,y=mnist['data'], mnist['target'].astype(int)\n",
    "X=stdsc.fit_transform(X)\n",
    "X_train, X_test, y_train, y_test = train_test_split(X, y, test_size=0.20, random_state=42)"
   ]
  },
  {
   "cell_type": "code",
   "execution_count": 59,
   "metadata": {},
   "outputs": [
    {
     "data": {
      "text/plain": [
       "(array([0., 0., 0., ..., 9., 9., 9.]), array([0, 0, 0, ..., 9, 9, 9]))"
      ]
     },
     "execution_count": 59,
     "metadata": {},
     "output_type": "execute_result"
    }
   ],
   "source": [
    "mnist['target'],y"
   ]
  },
  {
   "cell_type": "code",
   "execution_count": 125,
   "metadata": {},
   "outputs": [
    {
     "name": "stdout",
     "output_type": "stream",
     "text": [
      "INFO:tensorflow:Using default config.\n",
      "WARNING:tensorflow:Using temporary folder as model directory: /tmp/tmp99t_jqmi\n",
      "INFO:tensorflow:Using config: {'_model_dir': '/tmp/tmp99t_jqmi', '_tf_random_seed': None, '_save_summary_steps': 100, '_save_checkpoints_steps': None, '_save_checkpoints_secs': 600, '_session_config': None, '_keep_checkpoint_max': 5, '_keep_checkpoint_every_n_hours': 10000, '_log_step_count_steps': 100, '_train_distribute': None, '_service': None, '_cluster_spec': <tensorflow.python.training.server_lib.ClusterSpec object at 0x7fe0715a20b8>, '_task_type': 'worker', '_task_id': 0, '_global_id_in_cluster': 0, '_master': '', '_evaluation_master': '', '_is_chief': True, '_num_ps_replicas': 0, '_num_worker_replicas': 1}\n",
      "INFO:tensorflow:Calling model_fn.\n",
      "INFO:tensorflow:Done calling model_fn.\n",
      "INFO:tensorflow:Create CheckpointSaverHook.\n",
      "INFO:tensorflow:Graph was finalized.\n",
      "INFO:tensorflow:Running local_init_op.\n",
      "INFO:tensorflow:Done running local_init_op.\n",
      "INFO:tensorflow:Saving checkpoints for 1 into /tmp/tmp99t_jqmi/model.ckpt.\n",
      "INFO:tensorflow:loss = 167.5673, step = 1\n",
      "INFO:tensorflow:global_step/sec: 173.057\n",
      "INFO:tensorflow:loss = 17.02478, step = 101 (0.583 sec)\n",
      "INFO:tensorflow:global_step/sec: 187.752\n",
      "INFO:tensorflow:loss = 39.96976, step = 201 (0.528 sec)\n",
      "INFO:tensorflow:global_step/sec: 178.749\n",
      "INFO:tensorflow:loss = 11.085953, step = 301 (0.562 sec)\n",
      "INFO:tensorflow:global_step/sec: 161.533\n",
      "INFO:tensorflow:loss = 34.875893, step = 401 (0.616 sec)\n",
      "INFO:tensorflow:global_step/sec: 223.575\n",
      "INFO:tensorflow:loss = 5.435453, step = 501 (0.447 sec)\n",
      "INFO:tensorflow:global_step/sec: 207.878\n",
      "INFO:tensorflow:loss = 5.2766795, step = 601 (0.481 sec)\n",
      "INFO:tensorflow:global_step/sec: 215.882\n",
      "INFO:tensorflow:loss = 7.500173, step = 701 (0.463 sec)\n",
      "INFO:tensorflow:global_step/sec: 215.402\n",
      "INFO:tensorflow:loss = 2.3518617, step = 801 (0.464 sec)\n",
      "INFO:tensorflow:global_step/sec: 212.807\n",
      "INFO:tensorflow:loss = 7.597589, step = 901 (0.470 sec)\n",
      "INFO:tensorflow:global_step/sec: 222.348\n",
      "INFO:tensorflow:loss = 2.391801, step = 1001 (0.450 sec)\n",
      "INFO:tensorflow:global_step/sec: 219.785\n",
      "INFO:tensorflow:loss = 4.469101, step = 1101 (0.455 sec)\n",
      "INFO:tensorflow:global_step/sec: 188.973\n",
      "INFO:tensorflow:loss = 7.5304666, step = 1201 (0.529 sec)\n",
      "INFO:tensorflow:global_step/sec: 216.676\n",
      "INFO:tensorflow:loss = 5.6100183, step = 1301 (0.462 sec)\n",
      "INFO:tensorflow:global_step/sec: 194.131\n",
      "INFO:tensorflow:loss = 2.0743506, step = 1401 (0.515 sec)\n",
      "INFO:tensorflow:global_step/sec: 216.89\n",
      "INFO:tensorflow:loss = 6.889637, step = 1501 (0.461 sec)\n",
      "INFO:tensorflow:global_step/sec: 194.416\n",
      "INFO:tensorflow:loss = 6.9971213, step = 1601 (0.515 sec)\n",
      "INFO:tensorflow:global_step/sec: 216.329\n",
      "INFO:tensorflow:loss = 3.5904708, step = 1701 (0.462 sec)\n",
      "INFO:tensorflow:global_step/sec: 208.097\n",
      "INFO:tensorflow:loss = 2.3553104, step = 1801 (0.481 sec)\n",
      "INFO:tensorflow:global_step/sec: 125.872\n",
      "INFO:tensorflow:loss = 7.0840974, step = 1901 (0.797 sec)\n",
      "INFO:tensorflow:global_step/sec: 157.05\n",
      "INFO:tensorflow:loss = 5.1830225, step = 2001 (0.634 sec)\n",
      "INFO:tensorflow:global_step/sec: 155.923\n",
      "INFO:tensorflow:loss = 0.91623825, step = 2101 (0.642 sec)\n",
      "INFO:tensorflow:global_step/sec: 204.791\n",
      "INFO:tensorflow:loss = 0.81133056, step = 2201 (0.487 sec)\n",
      "INFO:tensorflow:Saving checkpoints for 2240 into /tmp/tmp99t_jqmi/model.ckpt.\n",
      "INFO:tensorflow:Loss for final step: 1.5463489.\n"
     ]
    },
    {
     "data": {
      "text/plain": [
       "<tensorflow.python.estimator.canned.dnn.DNNClassifier at 0x7fe073391048>"
      ]
     },
     "execution_count": 125,
     "metadata": {},
     "output_type": "execute_result"
    }
   ],
   "source": [
    "#feature_cols=[tf.feature_column.numeric_column(key=key) for key in X_train.columns]\n",
    "feature_cols = [tf.feature_column.numeric_column(\"X\", shape=[28 * 28])]\n",
    "dnnc=tf.estimator.DNNClassifier(hidden_units=[300,100], n_classes=10, feature_columns=feature_cols)\n",
    "input_fn = tf.estimator.inputs.numpy_input_fn(\n",
    "    x={\"X\": X_train}, y=y_train, num_epochs=2, batch_size=50, shuffle=True)\n",
    "dnnc.train(input_fn=input_fn)"
   ]
  },
  {
   "cell_type": "code",
   "execution_count": 84,
   "metadata": {},
   "outputs": [
    {
     "name": "stdout",
     "output_type": "stream",
     "text": [
      "INFO:tensorflow:Calling model_fn.\n",
      "INFO:tensorflow:Done calling model_fn.\n",
      "INFO:tensorflow:Starting evaluation at 2018-08-25-13:57:24\n",
      "INFO:tensorflow:Graph was finalized.\n",
      "INFO:tensorflow:Restoring parameters from /tmp/tmp1m215olj/model.ckpt-2240\n",
      "INFO:tensorflow:Running local_init_op.\n",
      "INFO:tensorflow:Done running local_init_op.\n",
      "INFO:tensorflow:Finished evaluation at 2018-08-25-13:57:24\n",
      "INFO:tensorflow:Saving dict for global step 2240: accuracy = 0.9685714, average_loss = 0.112394795, global_step = 2240, loss = 14.304791\n"
     ]
    }
   ],
   "source": [
    "test_input_fn = tf.estimator.inputs.numpy_input_fn(\n",
    "    x={\"X\": X_test}, y=y_test, shuffle=False)\n",
    "eval_results = dnnc.evaluate(input_fn=test_input_fn)"
   ]
  },
  {
   "cell_type": "code",
   "execution_count": 117,
   "metadata": {},
   "outputs": [
    {
     "name": "stdout",
     "output_type": "stream",
     "text": [
      "INFO:tensorflow:Calling model_fn.\n",
      "INFO:tensorflow:Done calling model_fn.\n",
      "INFO:tensorflow:Graph was finalized.\n",
      "INFO:tensorflow:Restoring parameters from /tmp/tmp1m215olj/model.ckpt-2240\n",
      "INFO:tensorflow:Running local_init_op.\n",
      "INFO:tensorflow:Done running local_init_op.\n"
     ]
    },
    {
     "data": {
      "text/plain": [
       "{'logits': array([-4.4332805, -5.39123  ,  5.754981 ,  6.6078234, -4.0162997,\n",
       "         1.15252  , -6.320815 , -2.5382886, 16.437817 ,  1.7385228],\n",
       "       dtype=float32),\n",
       " 'probabilities': array([8.6250951e-10, 3.3092687e-10, 2.2933473e-05, 5.3808959e-05,\n",
       "        1.3087489e-09, 2.2995692e-07, 1.3062246e-10, 5.7378449e-09,\n",
       "        9.9992263e-01, 4.1318455e-07], dtype=float32),\n",
       " 'class_ids': array([8]),\n",
       " 'classes': array([b'8'], dtype=object)}"
      ]
     },
     "execution_count": 117,
     "metadata": {},
     "output_type": "execute_result"
    }
   ],
   "source": [
    "preds=dnnc.predict(input_fn=test_input_fn)\n",
    "pred_results=list(preds)\n",
    "pred_results[1]"
   ]
  },
  {
   "cell_type": "code",
   "execution_count": 118,
   "metadata": {},
   "outputs": [],
   "source": [
    "y_test_preds=np.array([p['class_ids'][0] for p in pred_results])"
   ]
  },
  {
   "cell_type": "code",
   "execution_count": 122,
   "metadata": {},
   "outputs": [
    {
     "data": {
      "text/plain": [
       "0.9685714285714285"
      ]
     },
     "execution_count": 122,
     "metadata": {},
     "output_type": "execute_result"
    }
   ],
   "source": [
    "np.mean(y_test==y_test_preds)"
   ]
  }
 ],
 "metadata": {
  "kernelspec": {
   "display_name": "Python 3",
   "language": "python",
   "name": "python3"
  },
  "language_info": {
   "codemirror_mode": {
    "name": "ipython",
    "version": 3
   },
   "file_extension": ".py",
   "mimetype": "text/x-python",
   "name": "python",
   "nbconvert_exporter": "python",
   "pygments_lexer": "ipython3",
   "version": "3.6.5"
  }
 },
 "nbformat": 4,
 "nbformat_minor": 2
}
