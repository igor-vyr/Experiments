{
 "cells": [
  {
   "cell_type": "code",
   "execution_count": 2,
   "metadata": {},
   "outputs": [],
   "source": [
    "import tensorflow as tf"
   ]
  },
  {
   "cell_type": "code",
   "execution_count": 90,
   "metadata": {},
   "outputs": [
    {
     "name": "stdout",
     "output_type": "stream",
     "text": [
      "var_scope/var:0\n",
      "var_scope/var:0\n",
      "var:0\n",
      "foo/Variable:0\n",
      "bar/var:0\n",
      "bar/var_scope/var:0\n",
      "foo/var_scope/add:0\n"
     ]
    }
   ],
   "source": [
    "tf.reset_default_graph()\n",
    "\n",
    "with tf.name_scope(\"foo\"):\n",
    "    with tf.variable_scope(\"var_scope\", reuse=tf.AUTO_REUSE):\n",
    "        v = tf.get_variable(\"var\", [1])\n",
    "        w=v+v\n",
    "    v3=tf.Variable(\"var\")\n",
    "with tf.name_scope(\"bar\"):\n",
    "    with tf.variable_scope(\"var_scope\", reuse=tf.AUTO_REUSE):\n",
    "        v1 = tf.get_variable(\"var\", [1])\n",
    "        v5=tf.Variable(1,name=\"var\")\n",
    "    v2=tf.get_variable(\"var\", [1])\n",
    "    v4=tf.Variable(1,name=\"var\")\n",
    "assert v1 == v\n",
    "print(v.name)   # var_scope/var:0\n",
    "print(v1.name)  # var_scope/var:0\n",
    "print(v2.name)  # var_scope/var:0\n",
    "print(v3.name)  # var_scope/var:\n",
    "print(v4.name)  # var_scope/var:0\n",
    "print(v5.name)  # var_scope/var:0\n",
    "print(w.name)"
   ]
  },
  {
   "cell_type": "code",
   "execution_count": 43,
   "metadata": {},
   "outputs": [
    {
     "name": "stdout",
     "output_type": "stream",
     "text": [
      "var_scope/var:0\n",
      "var_scope/var:0\n",
      "var_scope/var:0\n",
      "var_scope/Variable:0\n",
      "var_scope_1/var:0\n",
      "var_scope_1/bar/var:0\n"
     ]
    }
   ],
   "source": [
    "tf.reset_default_graph()\n",
    "\n",
    "\n",
    "with tf.variable_scope(\"var_scope\", reuse=tf.AUTO_REUSE):\n",
    "    with tf.name_scope(\"foo\"):\n",
    "        v = tf.get_variable(\"var\", [1])\n",
    "    v3=tf.Variable(\"var\")\n",
    "\n",
    "with tf.variable_scope(\"var_scope\", reuse=tf.AUTO_REUSE):\n",
    "    with tf.name_scope(\"bar\"):\n",
    "        v1 = tf.get_variable(\"var\", [1])\n",
    "        v5=tf.Variable(1,name=\"var\")\n",
    "    v2=tf.get_variable(\"var\", [1])\n",
    "    v4=tf.Variable(1,name=\"var\")\n",
    "assert v1 == v\n",
    "print(v.name)   # var_scope/var:0\n",
    "print(v1.name)  # var_scope/var:0\n",
    "print(v2.name)  # var_scope/var:0\n",
    "print(v3.name)  # var_scope/var:\n",
    "print(v4.name)  # var_scope/var:0\n",
    "print(v5.name)  # var_scope/var:0"
   ]
  },
  {
   "cell_type": "code",
   "execution_count": 77,
   "metadata": {},
   "outputs": [
    {
     "name": "stdout",
     "output_type": "stream",
     "text": [
      "varrr:0\n",
      "varrr:0\n"
     ]
    }
   ],
   "source": [
    "tf.reset_default_graph()\n",
    "\n",
    "a=tf.Variable(5, name='varrr')\n",
    "b=a\n",
    "print(a.name)\n",
    "print(b.name)\n"
   ]
  },
  {
   "cell_type": "code",
   "execution_count": 87,
   "metadata": {},
   "outputs": [
    {
     "data": {
      "text/plain": [
       "8"
      ]
     },
     "execution_count": 87,
     "metadata": {},
     "output_type": "execute_result"
    }
   ],
   "source": [
    "def yolloo():\n",
    "    yolloo.no=5\n",
    "    return yolloo.no+3\n",
    "\n",
    "yolloo()"
   ]
  },
  {
   "cell_type": "code",
   "execution_count": 89,
   "metadata": {},
   "outputs": [
    {
     "data": {
      "text/plain": [
       "5"
      ]
     },
     "execution_count": 89,
     "metadata": {},
     "output_type": "execute_result"
    }
   ],
   "source": [
    "yolloo.no"
   ]
  }
 ],
 "metadata": {
  "kernelspec": {
   "display_name": "Python 3",
   "language": "python",
   "name": "python3"
  },
  "language_info": {
   "codemirror_mode": {
    "name": "ipython",
    "version": 3
   },
   "file_extension": ".py",
   "mimetype": "text/x-python",
   "name": "python",
   "nbconvert_exporter": "python",
   "pygments_lexer": "ipython3",
   "version": "3.6.5"
  }
 },
 "nbformat": 4,
 "nbformat_minor": 2
}
