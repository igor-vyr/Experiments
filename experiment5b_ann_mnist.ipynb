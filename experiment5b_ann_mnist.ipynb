{
 "cells": [
  {
   "cell_type": "markdown",
   "metadata": {},
   "source": [
    "# Solving MNIST with ANN"
   ]
  },
  {
   "cell_type": "code",
   "execution_count": 1,
   "metadata": {},
   "outputs": [
    {
     "name": "stderr",
     "output_type": "stream",
     "text": [
      "/home/igor/anaconda3/lib/python3.6/site-packages/h5py/__init__.py:36: FutureWarning: Conversion of the second argument of issubdtype from `float` to `np.floating` is deprecated. In future, it will be treated as `np.float64 == np.dtype(float).type`.\n",
      "  from ._conv import register_converters as _register_converters\n"
     ]
    }
   ],
   "source": [
    "import numpy as np\n",
    "import pandas as pd\n",
    "import tensorflow as tf\n",
    "from sklearn.datasets import fetch_california_housing\n",
    "from sklearn.preprocessing import StandardScaler"
   ]
  },
  {
   "cell_type": "markdown",
   "metadata": {},
   "source": [
    "### Data preparation\n",
    "- importing data\n",
    "- scaling data\n",
    "- train-test splitting"
   ]
  },
  {
   "cell_type": "code",
   "execution_count": 2,
   "metadata": {},
   "outputs": [
    {
     "name": "stderr",
     "output_type": "stream",
     "text": [
      "/home/igor/anaconda3/lib/python3.6/site-packages/sklearn/utils/validation.py:475: DataConversionWarning: Data with input dtype uint8 was converted to float64 by StandardScaler.\n",
      "  warnings.warn(msg, DataConversionWarning)\n"
     ]
    }
   ],
   "source": [
    "from sklearn.datasets import fetch_mldata\n",
    "from sklearn.model_selection import train_test_split\n",
    "mnist=fetch_mldata('MNIST original')\n",
    "stdsc=StandardScaler()\n",
    "#X,y=pd.DataFrame(mnist['data']), pd.DataFrame(mnist['target'])\n",
    "X_all,y_all=mnist['data'], mnist['target'].astype(int)\n",
    "X_all=stdsc.fit_transform(X_all)\n",
    "X_train, X_test, y_train, y_test = train_test_split(X_all, y_all, test_size=0.20, random_state=42)"
   ]
  },
  {
   "cell_type": "markdown",
   "metadata": {},
   "source": [
    "- function for selcting batches:"
   ]
  },
  {
   "cell_type": "code",
   "execution_count": 3,
   "metadata": {},
   "outputs": [],
   "source": [
    "def select_batch(X,y,batchsize):\n",
    "    random_indices=np.random.randint(X.shape[0],size=batchsize)\n",
    "    return X[random_indices], y[random_indices]"
   ]
  },
  {
   "cell_type": "markdown",
   "metadata": {},
   "source": [
    "### Defining the neural network for classification\n"
   ]
  },
  {
   "cell_type": "code",
   "execution_count": 4,
   "metadata": {},
   "outputs": [],
   "source": [
    "tf.reset_default_graph()\n",
    "n_inputs=28*28\n",
    "n_hidden1=300\n",
    "n_hidden2=100\n",
    "n_outputs=10\n",
    "\n",
    "# PLACEHOLDERS FOR INPUT\n",
    "X=tf.placeholder(dtype=tf.float32,shape=(None, n_inputs), name=\"X\")\n",
    "y=tf.placeholder(shape=(None), dtype=tf.int32, name=\"y\")\n",
    "\n",
    "# LAYERS OF THE NEURAL NETWORK\n",
    "with tf.name_scope(\"DNN\"):\n",
    "    hidden1=tf.layers.dense(inputs=X, units=n_hidden1, activation=tf.nn.relu, name='hidden1')\n",
    "    hidden2=tf.layers.dense(inputs=hidden1, units=n_hidden2, activation=tf.nn.relu, name='hidden2')\n",
    "    logits=tf.layers.dense(inputs=hidden2, units=n_outputs, activation=None, name='logits')\n",
    "\n",
    "# LOSS FUNCTION    \n",
    "with tf.name_scope(\"loss\"):\n",
    "    xentropy=tf.nn.sparse_softmax_cross_entropy_with_logits(labels=y,logits=logits)\n",
    "    loss=tf.reduce_mean(xentropy, name=\"loss\")\n",
    "\n",
    "# TRAINING OPERATIONS\n",
    "learning_rate=0.01\n",
    "#learning_rate=0.05\n",
    "with tf.name_scope(\"train\"):\n",
    "    optimizer=tf.train.GradientDescentOptimizer(learning_rate=learning_rate)\n",
    "    #optimizer=tf.train.AdagradOptimizer(learning_rate=learning_rate)\n",
    "    training_op=optimizer.minimize(loss)\n",
    "\n",
    "# MEASURE FOR EVALUATING PERFORMANCE\n",
    "with tf.name_scope(\"eval\"):\n",
    "    correct=tf.nn.in_top_k(targets=y,predictions=logits,k=1)\n",
    "    accuracy=tf.reduce_mean(tf.cast(correct,tf.float32))\n",
    "    \n",
    "init=tf.global_variables_initializer()\n",
    "saver=tf.train.Saver()"
   ]
  },
  {
   "cell_type": "markdown",
   "metadata": {},
   "source": [
    "Functionality for saving training progress for TensorBoard:"
   ]
  },
  {
   "cell_type": "code",
   "execution_count": 5,
   "metadata": {},
   "outputs": [
    {
     "name": "stdout",
     "output_type": "stream",
     "text": [
      "INFO:tensorflow:Summary name cross-entropy loss is illegal; using cross-entropy_loss instead.\n"
     ]
    }
   ],
   "source": [
    "from datetime import datetime\n",
    "now=datetime.utcnow().strftime(\"%Y%m%d_%H%M%S\")\n",
    "root_logdir=\"dnn_mnist_logs\"\n",
    "logdir=\"{}/run-{}/\".format(root_logdir, now)\n",
    "# logdir2=root_logdir+'/run-'+str(now)+'/'\n",
    "\n",
    "# node for evaluating loss and outputing it in tensorboard-readable string:\n",
    "loss_summary=tf.summary.scalar('cross-entropy loss',loss)\n",
    "accuracy_summary=tf.summary.scalar('accuracy',accuracy)\n",
    "# object that can write summaries into logfile\n",
    "file_writer=tf.summary.FileWriter(logdir, tf.get_default_graph())"
   ]
  },
  {
   "cell_type": "markdown",
   "metadata": {},
   "source": [
    "### Training the neural network:"
   ]
  },
  {
   "cell_type": "code",
   "execution_count": 6,
   "metadata": {},
   "outputs": [
    {
     "name": "stdout",
     "output_type": "stream",
     "text": [
      "Epoch  0 -- train accuracy:  0.88 , test accuracy:  0.92321426\n",
      "Epoch  1 -- train accuracy:  1.0 , test accuracy:  0.9392857\n",
      "Epoch  2 -- train accuracy:  1.0 , test accuracy:  0.94692856\n",
      "Epoch  3 -- train accuracy:  0.96 , test accuracy:  0.95257145\n",
      "Epoch  4 -- train accuracy:  0.96 , test accuracy:  0.95585716\n",
      "Epoch  5 -- train accuracy:  1.0 , test accuracy:  0.9582857\n",
      "Epoch  6 -- train accuracy:  0.98 , test accuracy:  0.96092856\n",
      "Epoch  7 -- train accuracy:  0.98 , test accuracy:  0.96164286\n",
      "Epoch  8 -- train accuracy:  0.98 , test accuracy:  0.9629286\n",
      "Epoch  9 -- train accuracy:  1.0 , test accuracy:  0.96507144\n",
      "Epoch  10 -- train accuracy:  0.98 , test accuracy:  0.9653571\n",
      "Epoch  11 -- train accuracy:  1.0 , test accuracy:  0.9664286\n",
      "Epoch  12 -- train accuracy:  1.0 , test accuracy:  0.96614283\n",
      "Epoch  13 -- train accuracy:  1.0 , test accuracy:  0.96685714\n",
      "Epoch  14 -- train accuracy:  1.0 , test accuracy:  0.967\n",
      "Epoch  15 -- train accuracy:  1.0 , test accuracy:  0.96828574\n",
      "Epoch  16 -- train accuracy:  1.0 , test accuracy:  0.9677857\n",
      "Epoch  17 -- train accuracy:  1.0 , test accuracy:  0.96835715\n",
      "Epoch  18 -- train accuracy:  1.0 , test accuracy:  0.969\n",
      "Epoch  19 -- train accuracy:  1.0 , test accuracy:  0.9687857\n",
      "Epoch  20 -- train accuracy:  1.0 , test accuracy:  0.96921426\n",
      "Epoch  21 -- train accuracy:  1.0 , test accuracy:  0.9697857\n",
      "Epoch  22 -- train accuracy:  1.0 , test accuracy:  0.96992856\n",
      "Epoch  23 -- train accuracy:  1.0 , test accuracy:  0.9697143\n",
      "Epoch  24 -- train accuracy:  1.0 , test accuracy:  0.9702143\n",
      "Epoch  25 -- train accuracy:  1.0 , test accuracy:  0.97007143\n",
      "Epoch  26 -- train accuracy:  1.0 , test accuracy:  0.9695714\n",
      "Epoch  27 -- train accuracy:  1.0 , test accuracy:  0.97014284\n",
      "Epoch  28 -- train accuracy:  1.0 , test accuracy:  0.97078574\n",
      "Epoch  29 -- train accuracy:  1.0 , test accuracy:  0.97078574\n",
      "Epoch  30 -- train accuracy:  1.0 , test accuracy:  0.9711428\n",
      "Epoch  31 -- train accuracy:  1.0 , test accuracy:  0.97092855\n",
      "Epoch  32 -- train accuracy:  1.0 , test accuracy:  0.97092855\n",
      "Epoch  33 -- train accuracy:  1.0 , test accuracy:  0.971\n",
      "Epoch  34 -- train accuracy:  1.0 , test accuracy:  0.9710714\n",
      "Epoch  35 -- train accuracy:  1.0 , test accuracy:  0.9715\n",
      "Epoch  36 -- train accuracy:  1.0 , test accuracy:  0.97064286\n",
      "Epoch  37 -- train accuracy:  0.98 , test accuracy:  0.971\n",
      "Epoch  38 -- train accuracy:  1.0 , test accuracy:  0.9712857\n",
      "Epoch  39 -- train accuracy:  1.0 , test accuracy:  0.9710714\n"
     ]
    }
   ],
   "source": [
    "n_epochs=40\n",
    "batch_size=50\n",
    "\n",
    "with tf.Session() as sess:\n",
    "    init.run()\n",
    "    for epoch in range(n_epochs):\n",
    "        for iteration in range(X_train.shape[0]//batch_size):\n",
    "            X_batch, y_batch=select_batch(X_train,y_train,batch_size)\n",
    "            sess.run(training_op, feed_dict={X: X_batch, y: y_batch})\n",
    "        accurracy_train=accuracy.eval(feed_dict={X: X_batch, y: y_batch})\n",
    "        accurracy_test=accuracy.eval(feed_dict={X: X_test, y: y_test})\n",
    "        print('Epoch ',epoch,'-- train accuracy: ', accurracy_train, ', test accuracy: ', accurracy_test)\n",
    "        \n",
    "        loss_summary_str, accuracy_summary_str=sess.run([loss_summary,accuracy_summary],\n",
    "                                                        feed_dict={X:X_test, y:y_test})\n",
    "        file_writer.add_summary(loss_summary_str, epoch)\n",
    "        file_writer.add_summary(accuracy_summary_str, epoch)\n",
    "        \n",
    "    saver.save(sess, \"./saved_models/dnn_mnist_model.ckpt\")\n",
    "# important to close in order to be able to directly see the results in the tensorboard:\n",
    "file_writer.close() "
   ]
  }
 ],
 "metadata": {
  "kernelspec": {
   "display_name": "Python 3",
   "language": "python",
   "name": "python3"
  },
  "language_info": {
   "codemirror_mode": {
    "name": "ipython",
    "version": 3
   },
   "file_extension": ".py",
   "mimetype": "text/x-python",
   "name": "python",
   "nbconvert_exporter": "python",
   "pygments_lexer": "ipython3",
   "version": "3.6.5"
  }
 },
 "nbformat": 4,
 "nbformat_minor": 2
}
