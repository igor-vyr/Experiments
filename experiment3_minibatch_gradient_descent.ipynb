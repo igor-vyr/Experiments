{
 "cells": [
  {
   "cell_type": "code",
   "execution_count": 9,
   "metadata": {},
   "outputs": [],
   "source": [
    "import numpy as np\n",
    "import tensorflow as tf\n",
    "from sklearn.datasets import fetch_california_housing\n",
    "from sklearn.preprocessing import StandardScaler"
   ]
  },
  {
   "cell_type": "code",
   "execution_count": 10,
   "metadata": {},
   "outputs": [],
   "source": [
    "housing=fetch_california_housing()\n",
    "\n",
    "m, n=housing.data.shape\n",
    "batchsize=100\n",
    "n_batches=np.ceil(m/batchsize).astype(int)\n",
    "n_batches\n",
    "\n",
    "stdsc=StandardScaler()\n",
    "scaled_housing=stdsc.fit_transform(housing.data)\n",
    "scaled_housing_plus_bias=np.c_[np.ones([m,1]),scaled_housing]"
   ]
  },
  {
   "cell_type": "code",
   "execution_count": 11,
   "metadata": {},
   "outputs": [
    {
     "data": {
      "text/plain": [
       "array([ 1.00000000e+00,  6.60969987e-17,  5.50808322e-18,  6.60969987e-17,\n",
       "       -1.06030602e-16, -1.10161664e-17,  3.44255201e-18, -1.07958431e-15,\n",
       "       -8.52651283e-15])"
      ]
     },
     "execution_count": 11,
     "metadata": {},
     "output_type": "execute_result"
    }
   ],
   "source": [
    "scaled_housing_plus_bias.mean(axis=0)"
   ]
  },
  {
   "cell_type": "code",
   "execution_count": 12,
   "metadata": {},
   "outputs": [
    {
     "data": {
      "text/plain": [
       "(5, 9)"
      ]
     },
     "execution_count": 12,
     "metadata": {},
     "output_type": "execute_result"
    }
   ],
   "source": [
    "def select_minibatch(epoch, batch_index, batch_size):\n",
    "    np.random.seed(epoch*n_batches+batch_index)\n",
    "    indices=np.random.randint(m, size=batch_size)\n",
    "    X=scaled_housing_plus_bias[indices]\n",
    "    y=housing.target[indices]\n",
    "    #print(indices)\n",
    "    return X,y\n",
    "\n",
    "X,y=select_minibatch(1, batchsize, 5)\n",
    "X.shape"
   ]
  },
  {
   "cell_type": "code",
   "execution_count": 13,
   "metadata": {},
   "outputs": [
    {
     "data": {
      "text/plain": [
       "(array([[ 1.        ,  0.08455156,  0.50539419, -0.57887605,  0.0191899 ,\n",
       "         -0.26445388, -0.1219134 , -1.33988509,  1.15783575],\n",
       "        [ 1.        ,  1.25053131, -1.95780625,  0.41746511, -0.12133355,\n",
       "          0.15323025,  0.02178475, -0.92788091,  0.98314   ],\n",
       "        [ 1.        ,  0.69893988,  0.10810379,  0.36583982, -0.16371001,\n",
       "          0.60800262, -0.05276264, -0.76401561,  0.76352248]]),\n",
       " array([3.853, 2.339, 2.792]))"
      ]
     },
     "execution_count": 13,
     "metadata": {},
     "output_type": "execute_result"
    }
   ],
   "source": [
    "select_minibatch(1,2,3)"
   ]
  },
  {
   "cell_type": "code",
   "execution_count": 14,
   "metadata": {},
   "outputs": [],
   "source": [
    "X=tf.placeholder(shape=(None,n+1), dtype=tf.float32)\n",
    "y=tf.placeholder(shape=(None,1), dtype=tf.float32)\n",
    "\n",
    "#tf.set_random_seed(42)\n",
    "theta=tf.Variable(tf.random_uniform((n + 1, 1), -1.0, 1.0, seed=42),name='Theta')\n",
    "theta = tf.Variable(tf.random_uniform([n + 1, 1], -1.0, 1.0, seed=42), name=\"theta\")\n",
    "\n",
    "error=y-tf.matmul(X,theta)\n",
    "mse=tf.reduce_mean(tf.square(error), name='mse')\n",
    "\n",
    "lerr=0.01\n",
    "optimizer=tf.train.GradientDescentOptimizer(learning_rate=lerr)\n",
    "training_op=optimizer.minimize(mse)\n"
   ]
  },
  {
   "cell_type": "code",
   "execution_count": 15,
   "metadata": {},
   "outputs": [
    {
     "name": "stdout",
     "output_type": "stream",
     "text": [
      "[[ 0.9045429 ]\n",
      " [ 0.35481548]\n",
      " [ 0.5906365 ]\n",
      " [ 0.51156354]\n",
      " [-0.04808879]\n",
      " [ 0.26202965]\n",
      " [-0.62795925]\n",
      " [-0.7713845 ]\n",
      " [-0.32755637]]\n"
     ]
    }
   ],
   "source": [
    "init=tf.global_variables_initializer()\n",
    "with tf.Session() as sess:\n",
    "    sess.run(init)\n",
    "    print(theta.eval())\n",
    "    n_epochs=10\n",
    "    for epoch in range(n_epochs):\n",
    "        for batch_index in range(n_batches):\n",
    "            Xb,yb=select_minibatch(epoch, batchsize, batch_index)\n",
    "            sess.run(training_op, feed_dict={X:Xb, y:yb.reshape(-1,1)})\n",
    "    best_theta=theta.eval(session=sess)"
   ]
  },
  {
   "cell_type": "code",
   "execution_count": 16,
   "metadata": {},
   "outputs": [
    {
     "data": {
      "text/plain": [
       "array([[ 2.0715818 ],\n",
       "       [ 0.82431453],\n",
       "       [ 0.15347598],\n",
       "       [-0.13969152],\n",
       "       [ 0.26221293],\n",
       "       [-0.04512911],\n",
       "       [-1.1565139 ],\n",
       "       [-0.9987298 ],\n",
       "       [-0.88783884]], dtype=float32)"
      ]
     },
     "execution_count": 16,
     "metadata": {},
     "output_type": "execute_result"
    }
   ],
   "source": [
    "best_theta"
   ]
  },
  {
   "cell_type": "code",
   "execution_count": null,
   "metadata": {},
   "outputs": [],
   "source": []
  }
 ],
 "metadata": {
  "kernelspec": {
   "display_name": "Python 3",
   "language": "python",
   "name": "python3"
  },
  "language_info": {
   "codemirror_mode": {
    "name": "ipython",
    "version": 3
   },
   "file_extension": ".py",
   "mimetype": "text/x-python",
   "name": "python",
   "nbconvert_exporter": "python",
   "pygments_lexer": "ipython3",
   "version": "3.6.5"
  }
 },
 "nbformat": 4,
 "nbformat_minor": 2
}
