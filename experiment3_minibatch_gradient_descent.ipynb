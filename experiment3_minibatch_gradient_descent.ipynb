{
 "cells": [
  {
   "cell_type": "markdown",
   "metadata": {},
   "source": [
    "# Linear regression with minibatch gradient descent "
   ]
  },
  {
   "cell_type": "code",
   "execution_count": 1,
   "metadata": {},
   "outputs": [
    {
     "name": "stderr",
     "output_type": "stream",
     "text": [
      "/home/igor/anaconda3/lib/python3.6/site-packages/h5py/__init__.py:36: FutureWarning: Conversion of the second argument of issubdtype from `float` to `np.floating` is deprecated. In future, it will be treated as `np.float64 == np.dtype(float).type`.\n",
      "  from ._conv import register_converters as _register_converters\n"
     ]
    }
   ],
   "source": [
    "import numpy as np\n",
    "import tensorflow as tf\n",
    "from sklearn.datasets import fetch_california_housing\n",
    "from sklearn.preprocessing import StandardScaler"
   ]
  },
  {
   "cell_type": "markdown",
   "metadata": {},
   "source": [
    "loading data:"
   ]
  },
  {
   "cell_type": "code",
   "execution_count": 2,
   "metadata": {},
   "outputs": [],
   "source": [
    "housing=fetch_california_housing()"
   ]
  },
  {
   "cell_type": "markdown",
   "metadata": {},
   "source": [
    "scaling data (important in case of gradient descent):"
   ]
  },
  {
   "cell_type": "code",
   "execution_count": 3,
   "metadata": {},
   "outputs": [
    {
     "data": {
      "text/plain": [
       "array([ 1.00000000e+00,  6.60969987e-17,  5.50808322e-18,  6.60969987e-17,\n",
       "       -1.06030602e-16, -1.10161664e-17,  3.44255201e-18, -1.07958431e-15,\n",
       "       -8.52651283e-15])"
      ]
     },
     "execution_count": 3,
     "metadata": {},
     "output_type": "execute_result"
    }
   ],
   "source": [
    "m, n=housing.data.shape\n",
    "stdsc=StandardScaler()\n",
    "scaled_housing=stdsc.fit_transform(housing.data)\n",
    "scaled_housing_plus_bias=np.c_[np.ones([m,1]),scaled_housing]\n",
    "\n",
    "scaled_housing_plus_bias.mean(axis=0)"
   ]
  },
  {
   "cell_type": "markdown",
   "metadata": {},
   "source": [
    "batchsize and number of batches to be processed in one epoch:"
   ]
  },
  {
   "cell_type": "code",
   "execution_count": 4,
   "metadata": {},
   "outputs": [
    {
     "data": {
      "text/plain": [
       "207"
      ]
     },
     "execution_count": 4,
     "metadata": {},
     "output_type": "execute_result"
    }
   ],
   "source": [
    "batchsize=100\n",
    "n_batches=np.ceil(m/batchsize).astype(int)\n",
    "n_batches"
   ]
  },
  {
   "cell_type": "markdown",
   "metadata": {},
   "source": [
    "function for selection of a batch and parsing X, y:"
   ]
  },
  {
   "cell_type": "code",
   "execution_count": 25,
   "metadata": {},
   "outputs": [
    {
     "data": {
      "text/plain": [
       "(5, 9)"
      ]
     },
     "execution_count": 25,
     "metadata": {},
     "output_type": "execute_result"
    }
   ],
   "source": [
    "def select_minibatch(epoch, batch_index, batch_size):\n",
    "    np.random.seed(epoch*n_batches+batch_index)\n",
    "    #print(epoch*n_batches+batch_index)\n",
    "    indices=np.random.randint(m, size=batch_size)\n",
    "    X=scaled_housing_plus_bias[indices]\n",
    "    y=housing.target[indices]\n",
    "    #print(indices)\n",
    "    return X,y\n",
    "\n",
    "X,y=select_minibatch(1, batchsize, 5)\n",
    "X.shape"
   ]
  },
  {
   "cell_type": "markdown",
   "metadata": {},
   "source": [
    "computational graph of one gradient descent step:"
   ]
  },
  {
   "cell_type": "code",
   "execution_count": 26,
   "metadata": {},
   "outputs": [],
   "source": [
    "# placeholder nodes for X and y:\n",
    "X=tf.placeholder(shape=(None,n+1), dtype=tf.float32) \n",
    "y=tf.placeholder(shape=(None,1), dtype=tf.float32)\n",
    "\n",
    "# variable node: coefficients theta with random initialization:\n",
    "#tf.set_random_seed(42)\n",
    "theta=tf.Variable(tf.random_uniform((n + 1, 1), -1.0, 1.0, seed=42),name='Theta')\n",
    "\n",
    "# nodes for computing mse:\n",
    "error=y-tf.matmul(X,theta)\n",
    "mse=tf.reduce_mean(tf.square(error), name='mse')\n",
    "\n",
    "lerr=0.01 #learning rate\n",
    "# gradient descent optimizer object: \n",
    "optimizer=tf.train.GradientDescentOptimizer(learning_rate=lerr)\n",
    "# node for gradient descent of mse (probably doing gradient descent in all variables)\n",
    "training_op=optimizer.minimize(mse)\n"
   ]
  },
  {
   "cell_type": "markdown",
   "metadata": {},
   "source": [
    "Data types (ops for operation => operation node). optimizer is not a node."
   ]
  },
  {
   "cell_type": "code",
   "execution_count": 27,
   "metadata": {},
   "outputs": [
    {
     "data": {
      "text/plain": [
       "(tensorflow.python.framework.ops.Tensor,\n",
       " tensorflow.python.framework.ops.Tensor,\n",
       " tensorflow.python.ops.variables.Variable,\n",
       " tensorflow.python.framework.ops.Operation,\n",
       " tensorflow.python.training.gradient_descent.GradientDescentOptimizer)"
      ]
     },
     "execution_count": 27,
     "metadata": {},
     "output_type": "execute_result"
    }
   ],
   "source": [
    "type(X), type(mse), type(theta), type(training_op), type(optimizer) "
   ]
  },
  {
   "cell_type": "markdown",
   "metadata": {},
   "source": [
    "Runing gradient descent step graph several times updating the variable theta:"
   ]
  },
  {
   "cell_type": "code",
   "execution_count": 31,
   "metadata": {},
   "outputs": [],
   "source": [
    "init=tf.global_variables_initializer()\n",
    "with tf.Session() as sess:\n",
    "    sess.run(init)\n",
    "    #print(theta.eval())\n",
    "    n_epochs=10\n",
    "    for epoch in range(n_epochs):\n",
    "        for batch_index in range(n_batches):\n",
    "            Xb,yb=select_minibatch(epoch, batch_index, batchsize)\n",
    "            sess.run(training_op, feed_dict={X:Xb, y:yb.reshape(-1,1)})\n",
    "    best_theta=theta.eval(session=sess)"
   ]
  },
  {
   "cell_type": "markdown",
   "metadata": {},
   "source": [
    "optimal theta for the scaled data:"
   ]
  },
  {
   "cell_type": "code",
   "execution_count": 32,
   "metadata": {},
   "outputs": [
    {
     "data": {
      "text/plain": [
       "array([[ 2.070016  ],\n",
       "       [ 0.8204561 ],\n",
       "       [ 0.1173173 ],\n",
       "       [-0.22739051],\n",
       "       [ 0.3113402 ],\n",
       "       [ 0.00353193],\n",
       "       [-0.01126994],\n",
       "       [-0.91643935],\n",
       "       [-0.8795008 ]], dtype=float32)"
      ]
     },
     "execution_count": 32,
     "metadata": {},
     "output_type": "execute_result"
    }
   ],
   "source": [
    "best_theta"
   ]
  }
 ],
 "metadata": {
  "kernelspec": {
   "display_name": "Python 3",
   "language": "python",
   "name": "python3"
  },
  "language_info": {
   "codemirror_mode": {
    "name": "ipython",
    "version": 3
   },
   "file_extension": ".py",
   "mimetype": "text/x-python",
   "name": "python",
   "nbconvert_exporter": "python",
   "pygments_lexer": "ipython3",
   "version": "3.6.5"
  }
 },
 "nbformat": 4,
 "nbformat_minor": 2
}
